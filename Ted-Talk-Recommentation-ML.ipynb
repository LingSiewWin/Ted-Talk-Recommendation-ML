{
 "cells": [
  {
   "cell_type": "code",
   "execution_count": null,
   "metadata": {},
   "outputs": [],
   "source": [
    "%%capture\n",
    "import numpy as np\n",
    "import pandas as pd\n",
    "import matplotlib.pyplot as plt\n",
    "\n",
    "import nltk\n",
    "import string\n",
    "import warnings\n",
    "from scipy.stats import pearsonr\n",
    "from nltk.corpus import stopwords\n",
    "from wordcloud import WordCloud\n",
    "from sklearn.feature_extraction.text import TfidfVectorizer\n",
    "from sklearn.metrics.pairwise import cosine_similarity\n",
    "\n",
    "nltk.download('stopwords')\n",
    "warnings.filterwarnings('ignore')\n"
   ]
  },
  {
   "cell_type": "code",
   "execution_count": null,
   "metadata": {},
   "outputs": [],
   "source": [
    "df = pd.read_csv('tedx_dataset.csv')\n",
    "print(df.head())\n"
   ]
  },
  {
   "cell_type": "code",
   "execution_count": null,
   "metadata": {},
   "outputs": [],
   "source": [
    "df.shape\n"
   ]
  },
  {
   "cell_type": "code",
   "execution_count": null,
   "metadata": {},
   "outputs": [],
   "source": [
    "df.isnull().sum()\n"
   ]
  },
  {
   "cell_type": "code",
   "execution_count": null,
   "metadata": {},
   "outputs": [],
   "source": [
    "splitted = df['posted'].str.split(' ', expand=True)\n",
    "\n",
    "# Creating columns for month and year of the talk\n",
    "df['year'] = splitted[2].astype('int')\n",
    "df['month'] = splitted[1]\n"
   ]
  },
  {
   "cell_type": "code",
   "execution_count": null,
   "metadata": {},
   "outputs": [],
   "source": [
    "df['year'].value_counts().plot.bar()\n",
    "plt.show()\n"
   ]
  },
  {
   "cell_type": "code",
   "execution_count": null,
   "metadata": {},
   "outputs": [],
   "source": [
    "# Let's combine the title and the details of the talk.\n",
    "df['details'] = df['title'] + ' ' + df['details']\n",
    "\n",
    "# Removing the unnecessary information\n",
    "df = df[['main_speaker', 'details']]\n",
    "df.dropna(inplace = True)\n",
    "df.head()\n"
   ]
  },
  {
   "cell_type": "code",
   "execution_count": null,
   "metadata": {},
   "outputs": [],
   "source": [
    "# We would like to have a copy of our data for future use.\n",
    "data = df.copy()\n"
   ]
  },
  {
   "cell_type": "code",
   "execution_count": null,
   "metadata": {},
   "outputs": [],
   "source": [
    "def remove_stopwords(text):\n",
    "  stop_words = stopwords.words('english')\n",
    "\n",
    "  imp_words = []\n",
    "\n",
    "  # Storing the important words\n",
    "  for word in str(text).split():\n",
    "    word = word.lower()\n",
    "    \n",
    "    if word not in stop_words:\n",
    "      imp_words.append(word)\n",
    "\n",
    "  output = \" \".join(imp_words)\n",
    "\n",
    "  return output\n"
   ]
  },
  {
   "cell_type": "code",
   "execution_count": null,
   "metadata": {},
   "outputs": [],
   "source": [
    "df['details'] = df['details'].apply(lambda text: remove_stopwords(text))\n",
    "df.head()\n"
   ]
  },
  {
   "cell_type": "code",
   "execution_count": null,
   "metadata": {},
   "outputs": [],
   "source": [
    "punctuations_list = string.punctuation\n",
    "\n",
    "\n",
    "def cleaning_punctuations(text):\n",
    "    signal = str.maketrans('', '', punctuations_list)\n",
    "    return text.translate(signal)\n",
    "\n",
    "\n",
    "df['details'] = df['details'].apply(lambda x: cleaning_punctuations(x))\n",
    "df.head()\n"
   ]
  },
  {
   "cell_type": "code",
   "execution_count": null,
   "metadata": {},
   "outputs": [],
   "source": [
    "details_corpus = \" \".join(df['details'])\n",
    "\n",
    "plt.figure(figsize=(20, 20))\n",
    "wc = WordCloud(max_words=1000, \n",
    "               width=800,\n",
    "               height=400).generate(details_corpus)\n",
    "plt.axis('off')\n",
    "plt.imshow(wc)\n",
    "plt.show()\n"
   ]
  },
  {
   "cell_type": "code",
   "execution_count": null,
   "metadata": {},
   "outputs": [],
   "source": [
    "%%capture\n",
    "vectorizer = TfidfVectorizer(analyzer = 'word')\n",
    "vectorizer.fit(df['details'])\n"
   ]
  },
  {
   "cell_type": "code",
   "execution_count": null,
   "metadata": {},
   "outputs": [],
   "source": [
    "def get_similarities(talk_content, data=df):\n",
    "\n",
    "    # Getting vector for the input talk_content.\n",
    "    talk_array1 = vectorizer.transform(talk_content).toarray()\n",
    "\n",
    "    # We will store similarity for each row of the dataset.\n",
    "    sim = []\n",
    "    pea = []\n",
    "    for idx, row in data.iterrows():\n",
    "        details = row['details']\n",
    "\n",
    "        # Getting vector for current talk.\n",
    "        talk_array2 = vectorizer.transform(\n",
    "            data[data['details'] == details]['details']).toarray()\n",
    "\n",
    "        # Calculating cosine similarities\n",
    "        cos_sim = cosine_similarity(talk_array1, talk_array2)[0][0]\n",
    "\n",
    "        # Calculating pearson correlation\n",
    "        pea_sim = pearsonr(talk_array1.squeeze(), talk_array2.squeeze())[0]\n",
    "\n",
    "        sim.append(cos_sim)\n",
    "        pea.append(pea_sim)\n",
    "\n",
    "    return sim, pea\n"
   ]
  },
  {
   "cell_type": "code",
   "execution_count": null,
   "metadata": {},
   "outputs": [],
   "source": [
    "def recommend_talks(talk_content, data=data):\n",
    "\n",
    "    data['cos_sim'], data['pea_sim'] = get_similarities(talk_content)\n",
    "\n",
    "    data.sort_values(by=['cos_sim', 'pea_sim'], ascending=[\n",
    "                     False, False], inplace=True)\n",
    "\n",
    "    display(data[['main_speaker', 'details']].head())\n"
   ]
  },
  {
   "cell_type": "code",
   "execution_count": null,
   "metadata": {},
   "outputs": [],
   "source": [
    "talk_content = ['Time Management and working\\\n",
    "hard to become successful in life']\n",
    "recommend_talks(talk_content)\n"
   ]
  },
  {
   "cell_type": "code",
   "execution_count": null,
   "metadata": {},
   "outputs": [],
   "source": [
    "talk_content = ['Climate change and impact on the health\\\n",
    ". How can we change this world by reducing carbon footprints?']\n",
    "recommend_talks(talk_content)\n"
   ]
  }
 ],
 "metadata": {
  "language_info": {
   "name": "python"
  }
 },
 "nbformat": 4,
 "nbformat_minor": 2
}

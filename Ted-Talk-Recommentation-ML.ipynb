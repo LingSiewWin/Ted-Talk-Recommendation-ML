{
 "cells": [
  {
   "cell_type": "code",
   "execution_count": 4,
   "metadata": {},
   "outputs": [
    {
     "name": "stdout",
     "output_type": "stream",
     "text": [
      "Requirement already satisfied: WordCloud in /Library/Frameworks/Python.framework/Versions/3.10/lib/python3.10/site-packages (1.9.4)\n",
      "Requirement already satisfied: numpy>=1.6.1 in /Library/Frameworks/Python.framework/Versions/3.10/lib/python3.10/site-packages (from WordCloud) (1.26.2)\n",
      "Requirement already satisfied: pillow in /Library/Frameworks/Python.framework/Versions/3.10/lib/python3.10/site-packages (from WordCloud) (11.1.0)\n",
      "Requirement already satisfied: matplotlib in /Library/Frameworks/Python.framework/Versions/3.10/lib/python3.10/site-packages (from WordCloud) (3.10.0)\n",
      "Requirement already satisfied: contourpy>=1.0.1 in /Library/Frameworks/Python.framework/Versions/3.10/lib/python3.10/site-packages (from matplotlib->WordCloud) (1.3.1)\n",
      "Requirement already satisfied: cycler>=0.10 in /Library/Frameworks/Python.framework/Versions/3.10/lib/python3.10/site-packages (from matplotlib->WordCloud) (0.12.1)\n",
      "Requirement already satisfied: fonttools>=4.22.0 in /Library/Frameworks/Python.framework/Versions/3.10/lib/python3.10/site-packages (from matplotlib->WordCloud) (4.56.0)\n",
      "Requirement already satisfied: kiwisolver>=1.3.1 in /Library/Frameworks/Python.framework/Versions/3.10/lib/python3.10/site-packages (from matplotlib->WordCloud) (1.4.8)\n",
      "Requirement already satisfied: packaging>=20.0 in /Library/Frameworks/Python.framework/Versions/3.10/lib/python3.10/site-packages (from matplotlib->WordCloud) (24.2)\n",
      "Requirement already satisfied: pyparsing>=2.3.1 in /Library/Frameworks/Python.framework/Versions/3.10/lib/python3.10/site-packages (from matplotlib->WordCloud) (3.2.1)\n",
      "Requirement already satisfied: python-dateutil>=2.7 in /Users/lingsiewwin/Library/Python/3.10/lib/python/site-packages (from matplotlib->WordCloud) (2.9.0.post0)\n",
      "Requirement already satisfied: six>=1.5 in /Library/Frameworks/Python.framework/Versions/3.10/lib/python3.10/site-packages (from python-dateutil>=2.7->matplotlib->WordCloud) (1.17.0)\n",
      "Note: you may need to restart the kernel to use updated packages.\n"
     ]
    }
   ],
   "source": [
    "%pip install WordCloud\n",
    "#%%capture\n",
    "import numpy as np\n",
    "import pandas as pd\n",
    "import matplotlib.pyplot as plt\n",
    "\n",
    "import nltk\n",
    "import string\n",
    "import warnings\n",
    "from scipy.stats import pearsonr\n",
    "from nltk.corpus import stopwords\n",
    "from wordcloud import WordCloud\n",
    "from sklearn.feature_extraction.text import TfidfVectorizer\n",
    "from sklearn.metrics.pairwise import cosine_similarity\n",
    "\n",
    "nltk.download('stopwords')\n",
    "warnings.filterwarnings('ignore')\n"
   ]
  },
  {
   "cell_type": "code",
   "execution_count": 5,
   "metadata": {},
   "outputs": [
    {
     "name": "stdout",
     "output_type": "stream",
     "text": [
      "                                idx       main_speaker  \\\n",
      "0  8d2005ec35280deb6a438dc87b225f89     Alexandra Auer   \n",
      "1  b3072cd11f40eb57fd259555264476c6  Elizabeth Gilbert   \n",
      "2  4adc9fee977fa04c357ed4c9b52aa3cc       Butterscotch   \n",
      "3  59c641a72b495d522a7932145d6c02b3         Ethan Lisi   \n",
      "4  d227f2faf6ec185e54436d86463f499b      Daniel Finkel   \n",
      "\n",
      "                                               title  \\\n",
      "0                    The intangible effects of walls   \n",
      "1  It's OK to feel overwhelmed. Here's what to do...   \n",
      "2                                  \"Accept Who I Am\"   \n",
      "3               What it's really like to have autism   \n",
      "4              Can you solve the sea monster riddle?   \n",
      "\n",
      "                                             details           posted  \\\n",
      "0  More barriers exist now than at the end of Wor...  Posted Apr 2020   \n",
      "1  If you're feeling anxious or fearful during th...  Posted Apr 2020   \n",
      "2  Firing off her formidable beatboxing skills, m...  Posted Apr 2020   \n",
      "3  \"Autism is not a disease; it's just another wa...  Posted Apr 2020   \n",
      "4  According to legend, once every thousand years...  Posted Apr 2020   \n",
      "\n",
      "                                                 url  num_views  \n",
      "0  https://www.ted.com/talks/alexandra_auer_the_i...        NaN  \n",
      "1  https://www.ted.com/talks/elizabeth_gilbert_it...        NaN  \n",
      "2  https://www.ted.com/talks/butterscotch_accept_...        0.0  \n",
      "3  https://www.ted.com/talks/ethan_lisi_what_it_s...        NaN  \n",
      "4  https://www.ted.com/talks/daniel_finkel_can_yo...        0.0  \n"
     ]
    }
   ],
   "source": [
    "df = pd.read_csv('tedx_dataset.csv')\n",
    "print(df.head())\n"
   ]
  },
  {
   "cell_type": "code",
   "execution_count": 6,
   "metadata": {},
   "outputs": [
    {
     "data": {
      "text/plain": [
       "(4467, 7)"
      ]
     },
     "execution_count": 6,
     "metadata": {},
     "output_type": "execute_result"
    }
   ],
   "source": [
    "df.shape\n"
   ]
  },
  {
   "cell_type": "code",
   "execution_count": 7,
   "metadata": {},
   "outputs": [
    {
     "data": {
      "text/plain": [
       "idx                0\n",
       "main_speaker       1\n",
       "title              0\n",
       "details            0\n",
       "posted             0\n",
       "url                0\n",
       "num_views       4258\n",
       "dtype: int64"
      ]
     },
     "execution_count": 7,
     "metadata": {},
     "output_type": "execute_result"
    }
   ],
   "source": [
    "df.isnull().sum()\n"
   ]
  },
  {
   "cell_type": "code",
   "execution_count": 8,
   "metadata": {},
   "outputs": [],
   "source": [
    "splitted = df['posted'].str.split(' ', expand=True)\n",
    "\n",
    "# Creating columns for month and year of the talk\n",
    "df['year'] = splitted[2].astype('int')\n",
    "df['month'] = splitted[1]\n"
   ]
  },
  {
   "cell_type": "code",
   "execution_count": 9,
   "metadata": {},
   "outputs": [
    {
     "data": {
      "image/png": "[encoded data removed]",
      "text/plain": [
       "<Figure size 640x480 with 1 Axes>"
      ]
     },
     "metadata": {},
     "output_type": "display_data"
    }
   ],
   "source": [
    "df['year'].value_counts().plot.bar()\n",
    "plt.show()\n"
   ]
  },
  {
   "cell_type": "code",
   "execution_count": 10,
   "metadata": {},
   "outputs": [
    {
     "data": {
      "text/html": [
       "<div>\n",
       "<style scoped>\n",
       "    .dataframe tbody tr th:only-of-type {\n",
       "        vertical-align: middle;\n",
       "    }\n",
       "\n",
       "    .dataframe tbody tr th {\n",
       "        vertical-align: top;\n",
       "    }\n",
       "\n",
       "    .dataframe thead th {\n",
       "        text-align: right;\n",
       "    }\n",
       "</style>\n",
       "<table border=\"1\" class=\"dataframe\">\n",
       "  <thead>\n",
       "    <tr style=\"text-align: right;\">\n",
       "      <th></th>\n",
       "      <th>main_speaker</th>\n",
       "      <th>details</th>\n",
       "    </tr>\n",
       "  </thead>\n",
       "  <tbody>\n",
       "    <tr>\n",
       "      <th>0</th>\n",
       "      <td>Alexandra Auer</td>\n",
       "      <td>The intangible effects of walls More barriers ...</td>\n",
       "    </tr>\n",
       "    <tr>\n",
       "      <th>1</th>\n",
       "      <td>Elizabeth Gilbert</td>\n",
       "      <td>It's OK to feel overwhelmed. Here's what to do...</td>\n",
       "    </tr>\n",
       "    <tr>\n",
       "      <th>2</th>\n",
       "      <td>Butterscotch</td>\n",
       "      <td>\"Accept Who I Am\" Firing off her formidable be...</td>\n",
       "    </tr>\n",
       "    <tr>\n",
       "      <th>3</th>\n",
       "      <td>Ethan Lisi</td>\n",
       "      <td>What it's really like to have autism \"Autism i...</td>\n",
       "    </tr>\n",
       "    <tr>\n",
       "      <th>4</th>\n",
       "      <td>Daniel Finkel</td>\n",
       "      <td>Can you solve the sea monster riddle? Accordin...</td>\n",
       "    </tr>\n",
       "  </tbody>\n",
       "</table>\n",
       "</div>"
      ],
      "text/plain": [
       "        main_speaker                                            details\n",
       "0     Alexandra Auer  The intangible effects of walls More barriers ...\n",
       "1  Elizabeth Gilbert  It's OK to feel overwhelmed. Here's what to do...\n",
       "2       Butterscotch  \"Accept Who I Am\" Firing off her formidable be...\n",
       "3         Ethan Lisi  What it's really like to have autism \"Autism i...\n",
       "4      Daniel Finkel  Can you solve the sea monster riddle? Accordin..."
      ]
     },
     "execution_count": 10,
     "metadata": {},
     "output_type": "execute_result"
    }
   ],
   "source": [
    "# Let's combine the title and the details of the talk.\n",
    "df['details'] = df['title'] + ' ' + df['details']\n",
    "\n",
    "# Removing the unnecessary information\n",
    "df = df[['main_speaker', 'details']]\n",
    "df.dropna(inplace = True)\n",
    "df.head()\n"
   ]
  },
  {
   "cell_type": "code",
   "execution_count": null,
   "metadata": {},
   "outputs": [],
   "source": [
    "# We would like to have a copy of our data for future use.\n",
    "data = df.copy()\n"
   ]
  },
  {
   "cell_type": "code",
   "execution_count": null,
   "metadata": {},
   "outputs": [],
   "source": [
    "def remove_stopwords(text):\n",
    "  stop_words = stopwords.words('english')\n",
    "\n",
    "  imp_words = []\n",
    "\n",
    "  # Storing the important words\n",
    "  for word in str(text).split():\n",
    "    word = word.lower()\n",
    "    \n",
    "    if word not in stop_words:\n",
    "      imp_words.append(word)\n",
    "\n",
    "  output = \" \".join(imp_words)\n",
    "\n",
    "  return output\n"
   ]
  },
  {
   "cell_type": "code",
   "execution_count": null,
   "metadata": {},
   "outputs": [],
   "source": [
    "df['details'] = df['details'].apply(lambda text: remove_stopwords(text))\n",
    "df.head()\n"
   ]
  },
  {
   "cell_type": "code",
   "execution_count": null,
   "metadata": {},
   "outputs": [],
   "source": [
    "punctuations_list = string.punctuation\n",
    "\n",
    "\n",
    "def cleaning_punctuations(text):\n",
    "    signal = str.maketrans('', '', punctuations_list)\n",
    "    return text.translate(signal)\n",
    "\n",
    "\n",
    "df['details'] = df['details'].apply(lambda x: cleaning_punctuations(x))\n",
    "df.head()\n"
   ]
  },
  {
   "cell_type": "code",
   "execution_count": null,
   "metadata": {},
   "outputs": [],
   "source": [
    "details_corpus = \" \".join(df['details'])\n",
    "\n",
    "plt.figure(figsize=(20, 20))\n",
    "wc = WordCloud(max_words=1000, \n",
    "               width=800,\n",
    "               height=400).generate(details_corpus)\n",
    "plt.axis('off')\n",
    "plt.imshow(wc)\n",
    "plt.show()\n"
   ]
  },
  {
   "cell_type": "code",
   "execution_count": null,
   "metadata": {},
   "outputs": [],
   "source": [
    "%%capture\n",
    "vectorizer = TfidfVectorizer(analyzer = 'word')\n",
    "vectorizer.fit(df['details'])\n"
   ]
  },
  {
   "cell_type": "code",
   "execution_count": null,
   "metadata": {},
   "outputs": [],
   "source": [
    "def get_similarities(talk_content, data=df):\n",
    "\n",
    "    # Getting vector for the input talk_content.\n",
    "    talk_array1 = vectorizer.transform(talk_content).toarray()\n",
    "\n",
    "    # We will store similarity for each row of the dataset.\n",
    "    sim = []\n",
    "    pea = []\n",
    "    for idx, row in data.iterrows():\n",
    "        details = row['details']\n",
    "\n",
    "        # Getting vector for current talk.\n",
    "        talk_array2 = vectorizer.transform(\n",
    "            data[data['details'] == details]['details']).toarray()\n",
    "\n",
    "        # Calculating cosine similarities\n",
    "        cos_sim = cosine_similarity(talk_array1, talk_array2)[0][0]\n",
    "\n",
    "        # Calculating pearson correlation\n",
    "        pea_sim = pearsonr(talk_array1.squeeze(), talk_array2.squeeze())[0]\n",
    "\n",
    "        sim.append(cos_sim)\n",
    "        pea.append(pea_sim)\n",
    "\n",
    "    return sim, pea\n"
   ]
  },
  {
   "cell_type": "code",
   "execution_count": null,
   "metadata": {},
   "outputs": [],
   "source": [
    "def recommend_talks(talk_content, data=data):\n",
    "\n",
    "    data['cos_sim'], data['pea_sim'] = get_similarities(talk_content)\n",
    "\n",
    "    data.sort_values(by=['cos_sim', 'pea_sim'], ascending=[\n",
    "                     False, False], inplace=True)\n",
    "\n",
    "    display(data[['main_speaker', 'details']].head())\n"
   ]
  },
  {
   "cell_type": "code",
   "execution_count": null,
   "metadata": {},
   "outputs": [],
   "source": [
    "talk_content = ['Time Management and working\\\n",
    "hard to become successful in life']\n",
    "recommend_talks(talk_content)\n"
   ]
  },
  {
   "cell_type": "code",
   "execution_count": null,
   "metadata": {},
   "outputs": [],
   "source": [
    "talk_content = ['Climate change and impact on the health\\\n",
    ". How can we change this world by reducing carbon footprints?']\n",
    "recommend_talks(talk_content)\n"
   ]
  }
 ],
 "metadata": {
  "kernelspec": {
   "display_name": "Python 3",
   "language": "python",
   "name": "python3"
  },
  "language_info": {
   "codemirror_mode": {
    "name": "ipython",
    "version": 3
   },
   "file_extension": ".py",
   "mimetype": "text/x-python",
   "name": "python",
   "nbconvert_exporter": "python",
   "pygments_lexer": "ipython3",
   "version": "3.10.11"
  }
 },
 "nbformat": 4,
 "nbformat_minor": 2
}
